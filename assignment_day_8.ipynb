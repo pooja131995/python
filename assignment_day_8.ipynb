{
  "nbformat": 4,
  "nbformat_minor": 0,
  "metadata": {
    "colab": {
      "provenance": []
    },
    "kernelspec": {
      "name": "python3",
      "display_name": "Python 3"
    },
    "language_info": {
      "name": "python"
    }
  },
  "cells": [
    {
      "cell_type": "code",
      "source": [
        "d=[1,2,3,4]\n",
        "def fun(a):\n",
        "  if a%2==0:\n",
        "    return a\n",
        "  else:\n",
        "    return 1\n",
        "\n",
        "l1=filter(function,d)\n",
        "res=list(l1)\n",
        "print(res)"
      ],
      "metadata": {
        "colab": {
          "base_uri": "https://localhost:8080/"
        },
        "id": "c0hS1gSNsmvC",
        "outputId": "e75136be-7687-4863-aa6a-9ec0310da0fc"
      },
      "execution_count": 8,
      "outputs": [
        {
          "output_type": "stream",
          "name": "stdout",
          "text": [
            "[2, 4]\n"
          ]
        }
      ]
    }
  ]
}