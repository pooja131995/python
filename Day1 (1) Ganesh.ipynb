{
  "nbformat": 4,
  "nbformat_minor": 0,
  "metadata": {
    "colab": {
      "private_outputs": true,
      "provenance": []
    },
    "kernelspec": {
      "name": "python3",
      "display_name": "Python 3"
    },
    "language_info": {
      "name": "python"
    }
  },
  "cells": [
    {
      "cell_type": "code",
      "execution_count": null,
      "metadata": {
        "id": "g1NV0wMRP7ey"
      },
      "outputs": [],
      "source": [
        "#text editors\n",
        "#full IDE(integrated developement environment)\n",
        "#Notebook Environment(Jupiter)"
      ]
    },
    {
      "cell_type": "code",
      "source": [
        "#.py"
      ],
      "metadata": {
        "id": "GEWjLVKtiKNE"
      },
      "execution_count": null,
      "outputs": []
    },
    {
      "cell_type": "code",
      "source": [
        "#keyword is builtin readymade words we cant use anyother purpose"
      ],
      "metadata": {
        "id": "rzi8yIVJnxpQ"
      },
      "execution_count": null,
      "outputs": []
    },
    {
      "cell_type": "code",
      "source": [
        "import keyword as kw"
      ],
      "metadata": {
        "id": "kSnmN4sVoBMO"
      },
      "execution_count": null,
      "outputs": []
    },
    {
      "cell_type": "code",
      "source": [
        "print(len(kw.kwlist))"
      ],
      "metadata": {
        "id": "So-twgIUoYl2"
      },
      "execution_count": null,
      "outputs": []
    },
    {
      "cell_type": "code",
      "source": [
        "#python case sensitive\n",
        "#P is not same as p"
      ],
      "metadata": {
        "id": "Finc3ojLonQ7"
      },
      "execution_count": null,
      "outputs": []
    },
    {
      "cell_type": "code",
      "source": [
        "#SQL case in-sensitive P=p both are same"
      ],
      "metadata": {
        "id": "i4tXEagoo2VO"
      },
      "execution_count": null,
      "outputs": []
    },
    {
      "cell_type": "code",
      "source": [
        "x=3 #x is variable ligal"
      ],
      "metadata": {
        "id": "eClap1OdoNQM"
      },
      "execution_count": null,
      "outputs": []
    },
    {
      "cell_type": "code",
      "source": [
        "False=5 #this illegal"
      ],
      "metadata": {
        "id": "4tJht59upOE8"
      },
      "execution_count": null,
      "outputs": []
    },
    {
      "cell_type": "code",
      "source": [
        "#keywords cannot used as a varibles\n",
        "#before any characteor the values illegal\n",
        "#before any characteor the specila character illegal\n",
        "#in between charactor the speacil character illegal\n",
        "x10=46"
      ],
      "metadata": {
        "id": "UXaPK8grpeyu"
      },
      "execution_count": null,
      "outputs": []
    },
    {
      "cell_type": "code",
      "source": [
        "_x=10"
      ],
      "metadata": {
        "id": "YaBYH9qAqgWg"
      },
      "execution_count": null,
      "outputs": []
    },
    {
      "cell_type": "code",
      "source": [
        "t$=26"
      ],
      "metadata": {
        "id": "ndLGar9Pp6ty"
      },
      "execution_count": null,
      "outputs": []
    },
    {
      "cell_type": "code",
      "source": [
        "_=20"
      ],
      "metadata": {
        "id": "w5viAyosqkob"
      },
      "execution_count": null,
      "outputs": []
    },
    {
      "cell_type": "code",
      "source": [
        "x=20"
      ],
      "metadata": {
        "id": "x1WenmeFqrAM"
      },
      "execution_count": null,
      "outputs": []
    },
    {
      "cell_type": "code",
      "source": [
        "a,b=20"
      ],
      "metadata": {
        "id": "spQKcrWSqr-9"
      },
      "execution_count": null,
      "outputs": []
    },
    {
      "cell_type": "code",
      "source": [
        "a,b=10,20"
      ],
      "metadata": {
        "id": "zgp6KdOzq1hM"
      },
      "execution_count": null,
      "outputs": []
    },
    {
      "cell_type": "code",
      "source": [
        "a"
      ],
      "metadata": {
        "id": "g-07nHMfq5bK"
      },
      "execution_count": null,
      "outputs": []
    },
    {
      "cell_type": "code",
      "source": [
        "b"
      ],
      "metadata": {
        "id": "lDZu446Qq6OY"
      },
      "execution_count": null,
      "outputs": []
    },
    {
      "cell_type": "code",
      "source": [
        "v:r=10:20"
      ],
      "metadata": {
        "id": "xUDx-UIRq7j6"
      },
      "execution_count": null,
      "outputs": []
    },
    {
      "cell_type": "code",
      "source": [
        "a,b,c=10,23,30,30"
      ],
      "metadata": {
        "id": "RkXY9j0BrSjb"
      },
      "execution_count": null,
      "outputs": []
    },
    {
      "cell_type": "code",
      "source": [
        "a,b,*c=10,23,30,30"
      ],
      "metadata": {
        "id": "EGVYklJPrZJ7"
      },
      "execution_count": null,
      "outputs": []
    },
    {
      "cell_type": "code",
      "source": [
        "a"
      ],
      "metadata": {
        "id": "t8u6HoxArSFC"
      },
      "execution_count": null,
      "outputs": []
    },
    {
      "cell_type": "code",
      "source": [
        "b"
      ],
      "metadata": {
        "id": "RvdXQk0hrdC0"
      },
      "execution_count": null,
      "outputs": []
    },
    {
      "cell_type": "code",
      "source": [
        "c"
      ],
      "metadata": {
        "id": "59eQQHd_reFe"
      },
      "execution_count": null,
      "outputs": []
    },
    {
      "cell_type": "code",
      "source": [
        "print('hello world')"
      ],
      "metadata": {
        "id": "ybYFKmYKrfOr"
      },
      "execution_count": null,
      "outputs": []
    },
    {
      "cell_type": "code",
      "source": [
        "#back slash(/)\n",
        "#forward slash(\\)\n",
        "#tiple quotes(\"\"\" \"\"\")\n",
        "#escape sequence of the string(\\t)"
      ],
      "metadata": {
        "id": "RqIDcJzer7A9"
      },
      "execution_count": null,
      "outputs": []
    },
    {
      "cell_type": "code",
      "source": [
        "#formated output\n",
        "%s------> string\n",
        "%d------> integer\n",
        "%f------> float"
      ],
      "metadata": {
        "id": "olypDQDKtMjT"
      },
      "execution_count": null,
      "outputs": []
    },
    {
      "cell_type": "markdown",
      "source": [
        "The variables are reusable purpose"
      ],
      "metadata": {
        "id": "fptl9ZqMtyZb"
      }
    },
    {
      "cell_type": "markdown",
      "source": [
        "for singlw line commnet use #\n",
        "Multiple lines of comments\n"
      ],
      "metadata": {
        "id": "JJzzAQCNsYRP"
      }
    },
    {
      "cell_type": "code",
      "source": [
        "\"\"\"\n",
        "hello\n",
        "world\n",
        "\"\"\""
      ],
      "metadata": {
        "id": "SjxJkCnwsiAT"
      },
      "execution_count": null,
      "outputs": []
    },
    {
      "cell_type": "code",
      "source": [
        "x='ganesh'\n",
        "print(x)"
      ],
      "metadata": {
        "id": "WFEHAr8esi7A"
      },
      "execution_count": null,
      "outputs": []
    },
    {
      "cell_type": "code",
      "source": [
        "print('ganesh')"
      ],
      "metadata": {
        "id": "9gH3aPf1t4VE"
      },
      "execution_count": null,
      "outputs": []
    },
    {
      "cell_type": "code",
      "source": [
        "print('ganesh's laptop')"
      ],
      "metadata": {
        "id": "SmTC8j5Zt6kT"
      },
      "execution_count": null,
      "outputs": []
    },
    {
      "cell_type": "code",
      "source": [
        "print('ganesh\\'s laptop')"
      ],
      "metadata": {
        "id": "vFycHvbbuYiF"
      },
      "execution_count": null,
      "outputs": []
    },
    {
      "cell_type": "code",
      "source": [
        "!python --version"
      ],
      "metadata": {
        "id": "B-lFL56XueDk"
      },
      "execution_count": null,
      "outputs": []
    },
    {
      "cell_type": "code",
      "source": [
        "print(\"ganesh's laptop\")# always stick with this"
      ],
      "metadata": {
        "id": "j8gTd-R9uPKY"
      },
      "execution_count": null,
      "outputs": []
    },
    {
      "cell_type": "code",
      "source": [
        "print(\"ga\\nesh\")#run cell use shft+enter in your keyboard"
      ],
      "metadata": {
        "id": "zsuGYEDLu80f"
      },
      "execution_count": null,
      "outputs": []
    },
    {
      "cell_type": "code",
      "source": [
        "print(r\"ga\\nesh\")"
      ],
      "metadata": {
        "id": "93evZw6wvbJp"
      },
      "execution_count": null,
      "outputs": []
    },
    {
      "cell_type": "code",
      "source": [
        "print(\"ja\\thin\")"
      ],
      "metadata": {
        "id": "0hXtyDcwvmyo"
      },
      "execution_count": null,
      "outputs": []
    },
    {
      "cell_type": "code",
      "source": [
        "print(r\"ja\\thin\")"
      ],
      "metadata": {
        "id": "9xjYyIEBwco6"
      },
      "execution_count": null,
      "outputs": []
    },
    {
      "cell_type": "code",
      "source": [
        "?print"
      ],
      "metadata": {
        "id": "FmHTBv7xwlpe"
      },
      "execution_count": null,
      "outputs": []
    },
    {
      "cell_type": "code",
      "source": [
        "x"
      ],
      "metadata": {
        "id": "cLEZkkCBwnZ7"
      },
      "execution_count": null,
      "outputs": []
    },
    {
      "cell_type": "code",
      "source": [
        "type(x)"
      ],
      "metadata": {
        "id": "EMvJ1ZyKw4gR"
      },
      "execution_count": null,
      "outputs": []
    },
    {
      "cell_type": "code",
      "source": [
        "id(x)"
      ],
      "metadata": {
        "id": "6KUZAhstw9Ya"
      },
      "execution_count": null,
      "outputs": []
    },
    {
      "cell_type": "code",
      "source": [
        "x1=20\n"
      ],
      "metadata": {
        "id": "mbcUM6dNxqhR"
      },
      "execution_count": null,
      "outputs": []
    },
    {
      "cell_type": "code",
      "source": [
        "x2=20"
      ],
      "metadata": {
        "id": "rhPaJ-Lwx1z0"
      },
      "execution_count": null,
      "outputs": []
    },
    {
      "cell_type": "code",
      "source": [
        "print(type(x1))"
      ],
      "metadata": {
        "id": "lPebIemCx35j"
      },
      "execution_count": null,
      "outputs": []
    },
    {
      "cell_type": "code",
      "source": [
        "#In python everything is object"
      ],
      "metadata": {
        "id": "d8RXCFZRyBlp"
      },
      "execution_count": null,
      "outputs": []
    },
    {
      "cell_type": "code",
      "source": [
        "id(x1)"
      ],
      "metadata": {
        "id": "Uimhm4-wx71U"
      },
      "execution_count": null,
      "outputs": []
    },
    {
      "cell_type": "code",
      "source": [
        "id(x2)"
      ],
      "metadata": {
        "id": "bCg-HaD1yOoh"
      },
      "execution_count": null,
      "outputs": []
    },
    {
      "cell_type": "code",
      "source": [
        "#data types (or) data structures\n",
        "1.primitive data types                          2. non primitive\n",
        "int, bytes, str, float, complex, boolean            builtin                                                             user defiend\n",
        "                                            list, set, tuple, dict, frozenset                    linear                             nonlinear\n",
        "                                                                                            array, linkedlist, stack, queue         Tree, Graph, Hash, heap"
      ],
      "metadata": {
        "id": "ArjcSDp6yp0j"
      },
      "execution_count": null,
      "outputs": []
    },
    {
      "cell_type": "code",
      "source": [
        "dir(__builtins__)"
      ],
      "metadata": {
        "id": "WZ1oZ0K2zzfI"
      },
      "execution_count": null,
      "outputs": []
    },
    {
      "cell_type": "code",
      "source": [
        "len(['abs',\n",
        " 'aiter',\n",
        " 'all',\n",
        " 'anext',\n",
        " 'any',\n",
        " 'ascii',\n",
        " 'bin',\n",
        " 'bool',\n",
        " 'breakpoint',\n",
        " 'bytearray',\n",
        " 'bytes',\n",
        " 'callable',\n",
        " 'chr',\n",
        " 'classmethod',\n",
        " 'compile',\n",
        " 'complex',\n",
        " 'copyright',\n",
        " 'credits',\n",
        " 'delattr',\n",
        " 'dict',\n",
        " 'dir',\n",
        " 'display',\n",
        " 'divmod',\n",
        " 'enumerate',\n",
        " 'eval',\n",
        " 'exec',\n",
        " 'execfile',\n",
        " 'filter',\n",
        " 'float',\n",
        " 'format',\n",
        " 'frozenset',\n",
        " 'get_ipython',\n",
        " 'getattr',\n",
        " 'globals',\n",
        " 'hasattr',\n",
        " 'hash',\n",
        " 'help',\n",
        " 'hex',\n",
        " 'id',\n",
        " 'input',\n",
        " 'int',\n",
        " 'isinstance',\n",
        " 'issubclass',\n",
        " 'iter',\n",
        " 'len',\n",
        " 'license',\n",
        " 'list',\n",
        " 'locals',\n",
        " 'map',\n",
        " 'max',\n",
        " 'memoryview',\n",
        " 'min',\n",
        " 'next',\n",
        " 'object',\n",
        " 'oct',\n",
        " 'open',\n",
        " 'ord',\n",
        " 'pow',\n",
        " 'print',\n",
        " 'property',\n",
        " 'range',\n",
        " 'repr',\n",
        " 'reversed',\n",
        " 'round',\n",
        " 'runfile',\n",
        " 'set',\n",
        " 'setattr',\n",
        " 'slice',\n",
        " 'sorted',\n",
        " 'staticmethod',\n",
        " 'str',\n",
        " 'sum',\n",
        " 'super',\n",
        " 'tuple',\n",
        " 'type',\n",
        " 'vars',\n",
        " 'zip'])"
      ],
      "metadata": {
        "id": "iEmNq48n0RzQ"
      },
      "execution_count": null,
      "outputs": []
    },
    {
      "cell_type": "code",
      "source": [
        "#those are working with jupiter notebook to know the syntax or description of any function/method use shift+tab"
      ],
      "metadata": {
        "id": "Xt19DlS41T1D"
      },
      "execution_count": null,
      "outputs": []
    },
    {
      "cell_type": "code",
      "source": [
        "#idle help(\"print\")"
      ],
      "metadata": {
        "id": "pXyy2Fb71mcL"
      },
      "execution_count": null,
      "outputs": []
    },
    {
      "cell_type": "code",
      "source": [
        "?eval"
      ],
      "metadata": {
        "id": "jnIajiC-0V39"
      },
      "execution_count": null,
      "outputs": []
    },
    {
      "cell_type": "code",
      "source": [
        "type(eval(\"20\"))#it is very power full function to remove the quatation"
      ],
      "metadata": {
        "id": "aaGfpMzz04jh"
      },
      "execution_count": null,
      "outputs": []
    },
    {
      "cell_type": "code",
      "source": [
        "x=\"20\""
      ],
      "metadata": {
        "id": "dfURpOXF15SV"
      },
      "execution_count": null,
      "outputs": []
    },
    {
      "cell_type": "code",
      "source": [
        "x"
      ],
      "metadata": {
        "id": "wZ_qUt422BpB"
      },
      "execution_count": null,
      "outputs": []
    },
    {
      "cell_type": "code",
      "source": [
        "eval(\"ganesh\")"
      ],
      "metadata": {
        "id": "zfySyoRr2C3v"
      },
      "execution_count": null,
      "outputs": []
    },
    {
      "cell_type": "code",
      "source": [
        "eval(\"20+30+10\")#the otput is 60"
      ],
      "metadata": {
        "id": "_iWNzw5y2eup"
      },
      "execution_count": null,
      "outputs": []
    },
    {
      "cell_type": "code",
      "source": [
        "#datascience boss is asking log files client is given requermnt completely unstructured"
      ],
      "metadata": {
        "id": "t5_Fo7Ep24V8"
      },
      "execution_count": null,
      "outputs": []
    },
    {
      "cell_type": "code",
      "source": [
        "x=\"Ganesh\""
      ],
      "metadata": {
        "id": "uYyaKgs64JGq"
      },
      "execution_count": null,
      "outputs": []
    },
    {
      "cell_type": "code",
      "source": [
        "dir(x)"
      ],
      "metadata": {
        "id": "dh5PQJyZ4R_J"
      },
      "execution_count": null,
      "outputs": []
    },
    {
      "cell_type": "code",
      "source": [
        "#builtin functions are applicable all datatypes\n",
        "#methods are specific to few data types"
      ],
      "metadata": {
        "id": "RiwUfDHr4T3x"
      },
      "execution_count": null,
      "outputs": []
    },
    {
      "cell_type": "code",
      "source": [
        "#() paranthesis\n",
        "#[] square bracket\n",
        "#{} curl bracket\n",
        "#! escalation mark\n",
        "# ~ tilde\n",
        "# _ undersco\n",
        "# - highen\n",
        "# * asteric\n",
        "# & ampersand"
      ],
      "metadata": {
        "id": "WkKfSY2E5lyc"
      },
      "execution_count": null,
      "outputs": []
    },
    {
      "cell_type": "code",
      "source": [
        "x.capitalize()"
      ],
      "metadata": {
        "id": "SvcT1Hpy4x7H"
      },
      "execution_count": null,
      "outputs": []
    },
    {
      "cell_type": "code",
      "source": [
        "x.casefold()"
      ],
      "metadata": {
        "id": "260sZD885Wm_"
      },
      "execution_count": null,
      "outputs": []
    },
    {
      "cell_type": "code",
      "source": [
        "c=\"ganesh\""
      ],
      "metadata": {
        "id": "aybwqXTS6MKM"
      },
      "execution_count": null,
      "outputs": []
    },
    {
      "cell_type": "code",
      "source": [
        "c.center(20)"
      ],
      "metadata": {
        "id": "GVqjZZm06jzt"
      },
      "execution_count": null,
      "outputs": []
    },
    {
      "cell_type": "code",
      "source": [
        "?c.center"
      ],
      "metadata": {
        "id": "nQm2T7WP6lbn"
      },
      "execution_count": null,
      "outputs": []
    },
    {
      "cell_type": "code",
      "source": [
        "r = \"Python\"\n",
        "new_string = r.center(24)\n",
        "print(new_string)\n",
        "\n",
        "# Output: ***Python is awesome****"
      ],
      "metadata": {
        "id": "XqNo7B-E6xJF"
      },
      "execution_count": null,
      "outputs": []
    },
    {
      "cell_type": "code",
      "source": [
        "g=\"ganesh radharam\""
      ],
      "metadata": {
        "id": "ld2VV7yU8Fsu"
      },
      "execution_count": null,
      "outputs": []
    },
    {
      "cell_type": "code",
      "source": [
        "g.count(\"a\")"
      ],
      "metadata": {
        "id": "xOV9R8LY7YIO"
      },
      "execution_count": null,
      "outputs": []
    },
    {
      "cell_type": "code",
      "source": [
        "g.endswith(\"a\")#this is power full function"
      ],
      "metadata": {
        "id": "HtMsHf-H8be3"
      },
      "execution_count": null,
      "outputs": []
    },
    {
      "cell_type": "code",
      "source": [
        "a=\"a\\ts\\ts\""
      ],
      "metadata": {
        "id": "KcC-EuN490Xk"
      },
      "execution_count": null,
      "outputs": []
    },
    {
      "cell_type": "code",
      "source": [
        "a.expandtabs(0)"
      ],
      "metadata": {
        "id": "mqamD4IE8fMs"
      },
      "execution_count": null,
      "outputs": []
    },
    {
      "cell_type": "code",
      "source": [],
      "metadata": {
        "id": "IVJaed3V9d-R"
      },
      "execution_count": null,
      "outputs": []
    }
  ]
}